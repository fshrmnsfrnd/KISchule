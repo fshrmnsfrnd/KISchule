{
 "cells": [
  {
   "cell_type": "code",
   "execution_count": 25,
   "metadata": {},
   "outputs": [],
   "source": [
    "import numpy as np\n",
    "\n",
    "\n",
    "#np.random.seed(42)\n",
    "from sklearn import datasets"
   ]
  },
  {
   "cell_type": "markdown",
   "metadata": {},
   "source": [
    "### Vorbereitung Iris-Dataset\n",
    "\n",
    "Sklearn bietet verschiedene fertige Datasets. Wir nutzen als erstes Dataset das Iris-Dataset. Dieses umfasst eine kleine Datengröße.\n",
    "\n",
    "Der Irisblütendatensatz oder Fisher's Iris-Datensatz ist ein multivariater Datensatz, der vom britischen Statistiker und Biologen Ronald Fisher in seiner 1936 erschienenen Arbeit verwendet und berühmt gemacht wurde. Er wird manchmal als Andersons Iris-Datensatz bezeichnet, weil Edgar Anderson die Daten gesammelt hat, um die morphologische Variation der Irisblüten dreier verwandter Arten zu quantifizieren. \n",
    "\n",
    "Der Datensatz besteht aus 50 Proben von jeder der drei Irisarten (Iris setosa, Iris virginica und Iris versicolor). Von jeder Probe wurden vier Merkmale gemessen: die Länge und die Breite der Kelch- und Blütenblätter in Zentimetern. Basierend auf der Kombination dieser vier Merkmale entwickelte Fisher ein lineares Diskriminanzmodell, um die Arten voneinander zu unterscheiden. "
   ]
  },
  {
   "cell_type": "code",
   "execution_count": 32,
   "metadata": {},
   "outputs": [],
   "source": [
    "iris = datasets.load_iris()\n",
    "\n",
    "x = iris.data[:, :]\n",
    "\n",
    "y = iris.target\n",
    "\n",
    "class_names = iris.target_names\n",
    "discription = iris.DESCR"
   ]
  },
  {
   "cell_type": "markdown",
   "metadata": {},
   "source": [
    "### Dataset Split"
   ]
  },
  {
   "cell_type": "code",
   "execution_count": 33,
   "metadata": {
    "scrolled": true
   },
   "outputs": [
    {
     "name": "stdout",
     "output_type": "stream",
     "text": [
      "num_samples: 150\n",
      "num_features: 4\n"
     ]
    }
   ],
   "source": [
    "num_samples = x.shape[0]\n",
    "num_features = x.shape[1]\n",
    "\n",
    "print(f\"num_samples: {num_samples}\")\n",
    "print(f\"num_features: {num_features}\")"
   ]
  },
  {
   "cell_type": "markdown",
   "metadata": {},
   "source": [
    "### Aufgabe 1\n",
    "Teilen Sie das Dataset in Trainings- und Testdaten auf. Nutzen Sie für die Testdatengröße 30%."
   ]
  },
  {
   "cell_type": "code",
   "execution_count": 34,
   "metadata": {},
   "outputs": [],
   "source": [
    "from sklearn.model_selection import train_test_split\n",
    "x_train, x_test, y_train, y_test = train_test_split(x, y, test_size=0.3)"
   ]
  },
  {
   "cell_type": "code",
   "execution_count": 35,
   "metadata": {
    "scrolled": true
   },
   "outputs": [
    {
     "name": "stdout",
     "output_type": "stream",
     "text": [
      "x_train shape:\n",
      "(105, 4)\n",
      "y_train shape:\n",
      "(105,)\n",
      "x_test shape:\n",
      "(45, 4)\n",
      "y_test shape:\n",
      "(45,)\n"
     ]
    }
   ],
   "source": [
    "print(f\"x_train shape:\\n{x_train.shape}\")\n",
    "print(f\"y_train shape:\\n{y_train.shape}\")\n",
    "\n",
    "print(f\"x_test shape:\\n{x_test.shape}\")\n",
    "print(f\"y_test shape:\\n{y_test.shape}\")"
   ]
  },
  {
   "cell_type": "markdown",
   "metadata": {},
   "source": [
    "## KNN Model implementieren\n",
    "\n",
    "### Aufgabe 2\n",
    "Erstellen Sie mit Hilfe von sklearn.neighbors bzw. dem KNeighborsClassifier den KNN-Algorithmus (fit, predict, score). Nutzen Sie zum Start 3-Nachbarn."
   ]
  },
  {
   "cell_type": "code",
   "execution_count": null,
   "metadata": {},
   "outputs": [
    {
     "name": "stdout",
     "output_type": "stream",
     "text": [
      "x_test:\n",
      " [[ 0.  4.  0.  1.]\n",
      " [-5.  4.  0.  1.]]\n",
      "y_test:\n",
      " [0 1]\n",
      "y_pred:\n",
      "[0 0]\n",
      "accuracy: 100.0%\n"
     ]
    }
   ],
   "source": [
    "from sklearn.neighbors import KNeighborsClassifier\n",
    "\n",
    "clf=KNeighborsClassifier(n_neighbors=3)\n",
    "clf.fit(x_train,y_train)\n",
    "accuracy=clf.score(x_test, y_test)\n",
    "\n",
    "x_test_neuer_Punkt = np.array([[0.0, 4.0, 0.0, 1.0], [-5.0, 4.0, 0.0, 1.0]])\n",
    "y_test_neuer_Punkt = np.array([0, 1])\n",
    "print(f\"x_test:\\n {x_test_neuer_Punkt}\")\n",
    "print(f\"y_test:\\n {y_test_neuer_Punkt}\")\n",
    "\n",
    "y_pred=clf.predict(x_test_neuer_Punkt)\n",
    "print(f\"y_pred:\\n{y_pred}\")\n",
    "print(f\"accuracy: {accuracy*100.0:.4}%\")\n"
   ]
  },
  {
   "cell_type": "markdown",
   "metadata": {},
   "source": [
    "## Hyperparameters\n",
    "\n",
    "Neben der Anzahl der zu vergleichenden Nachbarn können noch weitere Parameter den Algorithmus positiv oder negativ beeinflussen. Diese Parameter bezeichnet man als Hyperparameter. Mit dem Parameter weights können die nächsten Nachbarn unterschiedliche gewichtet werden. \n",
    "- Mit uniform werden alle Nachbarn gleich schwer gewichtet. \n",
    "- Mit distance werden die Nachbarn mit zunehmender Entfernung unwichtiger gewertet.\n",
    "\n",
    "\n",
    "### Aufgabe 3\n",
    "Untersuchen Sie beim Iris-Dataset welche Parameter am Besten funktionieren. Vergleichen Sie dazu die Wirkung von 1 bis 10 Nachbarn sowie die Einstellungen uniform/distance. Geben Sie alle Ergebnisse zusammen aus (Hinweis: Schleife)\n",
    "\n",
    "\n",
    "\n",
    "https://scikit-learn.org/stable/modules/generated/sklearn.neighbors.KNeighborsClassifier.html\n"
   ]
  },
  {
   "cell_type": "code",
   "execution_count": 43,
   "metadata": {
    "scrolled": true
   },
   "outputs": [
    {
     "name": "stdout",
     "output_type": "stream",
     "text": [
      "y_pred:\n",
      "[1 2]\n",
      "accuracy: 100.0%\n",
      "y_pred:\n",
      "[1 2]\n",
      "accuracy: 100.0%\n",
      "y_pred:\n",
      "[1 2]\n",
      "accuracy: 100.0%\n",
      "y_pred:\n",
      "[1 2]\n",
      "accuracy: 100.0%\n",
      "y_pred:\n",
      "[0 2]\n",
      "accuracy: 100.0%\n",
      "y_pred:\n",
      "[1 2]\n",
      "accuracy: 100.0%\n",
      "y_pred:\n",
      "[1 2]\n",
      "accuracy: 100.0%\n",
      "y_pred:\n",
      "[1 2]\n",
      "accuracy: 100.0%\n",
      "y_pred:\n",
      "[0 2]\n",
      "accuracy: 100.0%\n",
      "y_pred:\n",
      "[0 2]\n",
      "accuracy: 100.0%\n"
     ]
    }
   ],
   "source": [
    "for i in range(1, 11):\n",
    "    clf=KNeighborsClassifier(n_neighbors=i, weights='distance')\n",
    "    clf.fit(x_train,y_train)\n",
    "    accuracy=clf.score(x_test, y_test)\n",
    "\n",
    "    x_test_neuer_Punkt = np.array([[0.0, -5.0, 4.0, -5.0], [-5.0, 4.0, 6.0, 20.0]])\n",
    "    y_test_neuer_Punkt = np.array([0, 1])\n",
    "\n",
    "\n",
    "\n",
    "    y_pred=clf.predict(x_test_neuer_Punkt)\n",
    "    print(f\"y_pred:\\n{y_pred}\")\n",
    "    print(f\"accuracy: {accuracy*100.0:.4}%\")"
   ]
  },
  {
   "cell_type": "markdown",
   "metadata": {},
   "source": [
    "## Wine-Dataset "
   ]
  },
  {
   "cell_type": "code",
   "execution_count": 46,
   "metadata": {},
   "outputs": [],
   "source": [
    "import numpy as np\n",
    "\n",
    "#np.random.seed(42)\n",
    "from sklearn import datasets"
   ]
  },
  {
   "cell_type": "markdown",
   "metadata": {},
   "source": [
    "### Aufgabe 4\n",
    "Laden Sie aus Sklearn das Wine-Dataset und generieren Sie daraus Ihr Datenset x sowie die Klassen y. Das funktioniert nach dem gleichen Shema, wie beim Iris-Dataset.\n",
    "Lassen Sie sich zudem die Klassennamen(target_names) und die Beschreibung(DESCR) des Datasets ausgeben."
   ]
  },
  {
   "cell_type": "code",
   "execution_count": 50,
   "metadata": {},
   "outputs": [
    {
     "name": "stdout",
     "output_type": "stream",
     "text": [
      "['class_0' 'class_1' 'class_2']\n",
      ".. _wine_dataset:\n",
      "\n",
      "Wine recognition dataset\n",
      "------------------------\n",
      "\n",
      "**Data Set Characteristics:**\n",
      "\n",
      ":Number of Instances: 178\n",
      ":Number of Attributes: 13 numeric, predictive attributes and the class\n",
      ":Attribute Information:\n",
      "    - Alcohol\n",
      "    - Malic acid\n",
      "    - Ash\n",
      "    - Alcalinity of ash\n",
      "    - Magnesium\n",
      "    - Total phenols\n",
      "    - Flavanoids\n",
      "    - Nonflavanoid phenols\n",
      "    - Proanthocyanins\n",
      "    - Color intensity\n",
      "    - Hue\n",
      "    - OD280/OD315 of diluted wines\n",
      "    - Proline\n",
      "    - class:\n",
      "        - class_0\n",
      "        - class_1\n",
      "        - class_2\n",
      "\n",
      ":Summary Statistics:\n",
      "\n",
      "============================= ==== ===== ======= =====\n",
      "                                Min   Max   Mean     SD\n",
      "============================= ==== ===== ======= =====\n",
      "Alcohol:                      11.0  14.8    13.0   0.8\n",
      "Malic Acid:                   0.74  5.80    2.34  1.12\n",
      "Ash:                          1.36  3.23    2.36  0.27\n",
      "Alcalinity of Ash:            10.6  30.0    19.5   3.3\n",
      "Magnesium:                    70.0 162.0    99.7  14.3\n",
      "Total Phenols:                0.98  3.88    2.29  0.63\n",
      "Flavanoids:                   0.34  5.08    2.03  1.00\n",
      "Nonflavanoid Phenols:         0.13  0.66    0.36  0.12\n",
      "Proanthocyanins:              0.41  3.58    1.59  0.57\n",
      "Colour Intensity:              1.3  13.0     5.1   2.3\n",
      "Hue:                          0.48  1.71    0.96  0.23\n",
      "OD280/OD315 of diluted wines: 1.27  4.00    2.61  0.71\n",
      "Proline:                       278  1680     746   315\n",
      "============================= ==== ===== ======= =====\n",
      "\n",
      ":Missing Attribute Values: None\n",
      ":Class Distribution: class_0 (59), class_1 (71), class_2 (48)\n",
      ":Creator: R.A. Fisher\n",
      ":Donor: Michael Marshall (MARSHALL%PLU@io.arc.nasa.gov)\n",
      ":Date: July, 1988\n",
      "\n",
      "This is a copy of UCI ML Wine recognition datasets.\n",
      "https://archive.ics.uci.edu/ml/machine-learning-databases/wine/wine.data\n",
      "\n",
      "The data is the results of a chemical analysis of wines grown in the same\n",
      "region in Italy by three different cultivators. There are thirteen different\n",
      "measurements taken for different constituents found in the three types of\n",
      "wine.\n",
      "\n",
      "Original Owners:\n",
      "\n",
      "Forina, M. et al, PARVUS -\n",
      "An Extendible Package for Data Exploration, Classification and Correlation.\n",
      "Institute of Pharmaceutical and Food Analysis and Technologies,\n",
      "Via Brigata Salerno, 16147 Genoa, Italy.\n",
      "\n",
      "Citation:\n",
      "\n",
      "Lichman, M. (2013). UCI Machine Learning Repository\n",
      "[https://archive.ics.uci.edu/ml]. Irvine, CA: University of California,\n",
      "School of Information and Computer Science.\n",
      "\n",
      ".. dropdown:: References\n",
      "\n",
      "    (1) S. Aeberhard, D. Coomans and O. de Vel,\n",
      "    Comparison of Classifiers in High Dimensional Settings,\n",
      "    Tech. Rep. no. 92-02, (1992), Dept. of Computer Science and Dept. of\n",
      "    Mathematics and Statistics, James Cook University of North Queensland.\n",
      "    (Also submitted to Technometrics).\n",
      "\n",
      "    The data was used with many others for comparing various\n",
      "    classifiers. The classes are separable, though only RDA\n",
      "    has achieved 100% correct classification.\n",
      "    (RDA : 100%, QDA 99.4%, LDA 98.9%, 1NN 96.1% (z-transformed data))\n",
      "    (All results using the leave-one-out technique)\n",
      "\n",
      "    (2) S. Aeberhard, D. Coomans and O. de Vel,\n",
      "    \"THE CLASSIFICATION PERFORMANCE OF RDA\"\n",
      "    Tech. Rep. no. 92-01, (1992), Dept. of Computer Science and Dept. of\n",
      "    Mathematics and Statistics, James Cook University of North Queensland.\n",
      "    (Also submitted to Journal of Chemometrics).\n",
      "\n"
     ]
    }
   ],
   "source": [
    "wine = datasets.load_wine()\n",
    "\n",
    "x = wine.data[:, :]\n",
    "\n",
    "y = wine.target\n",
    "print(wine.target_names)\n",
    "print(wine.DESCR)"
   ]
  },
  {
   "cell_type": "markdown",
   "metadata": {},
   "source": [
    "### Aufgabe 5\n",
    "Bestimmen Sie den Shape Ihres Datensatzes.\n",
    "Zerlegen Sie anschließend Ihren Datensatz im Verhältnis 2/3. D.h. 1/3 Testdaten zu 2/3 Trainingsdaten."
   ]
  },
  {
   "cell_type": "code",
   "execution_count": 53,
   "metadata": {},
   "outputs": [],
   "source": [
    "x_train, x_test, y_train, y_test = train_test_split(x, y, test_size=0.3)"
   ]
  },
  {
   "cell_type": "code",
   "execution_count": 54,
   "metadata": {},
   "outputs": [
    {
     "name": "stdout",
     "output_type": "stream",
     "text": [
      "num_samples: 178\n",
      "num_features: 13\n"
     ]
    }
   ],
   "source": [
    "num_samples = x.shape[0]\n",
    "num_features = x.shape[1]\n",
    "print(f\"num_samples: {num_samples}\")\n",
    "print(f\"num_features: {num_features}\")"
   ]
  },
  {
   "cell_type": "code",
   "execution_count": null,
   "metadata": {},
   "outputs": [],
   "source": []
  },
  {
   "cell_type": "code",
   "execution_count": 55,
   "metadata": {},
   "outputs": [
    {
     "name": "stdout",
     "output_type": "stream",
     "text": [
      "x_train shape:\n",
      "(124, 13)\n",
      "y_train shape:\n",
      "(124,)\n",
      "x_test shape:\n",
      "(54, 13)\n",
      "y_test shape:\n",
      "(54,)\n"
     ]
    }
   ],
   "source": [
    "print(f\"x_train shape:\\n{x_train.shape}\")\n",
    "print(f\"y_train shape:\\n{y_train.shape}\")\n",
    "\n",
    "print(f\"x_test shape:\\n{x_test.shape}\")\n",
    "print(f\"y_test shape:\\n{y_test.shape}\")"
   ]
  },
  {
   "cell_type": "markdown",
   "metadata": {},
   "source": [
    "### Aufgabe 5\n",
    "Wenden Sie nun den KNN-Algorithmus auf den Datensatz an und versuchen Sie die besten Einstellungen für die Parameter zu bestimmen."
   ]
  },
  {
   "cell_type": "code",
   "execution_count": 56,
   "metadata": {},
   "outputs": [],
   "source": [
    "clf=KNeighborsClassifier(n_neighbors=3)\n",
    "clf.fit(x_train,y_train)\n",
    "accuracy=clf.score(x_test, y_test)\n",
    "\n"
   ]
  },
  {
   "cell_type": "code",
   "execution_count": 58,
   "metadata": {},
   "outputs": [
    {
     "name": "stdout",
     "output_type": "stream",
     "text": [
      "score: 0.7407407407407407\n"
     ]
    }
   ],
   "source": [
    "print(f\"score: {accuracy}\")"
   ]
  }
 ],
 "metadata": {
  "kernelspec": {
   "display_name": "Python 3",
   "language": "python",
   "name": "python3"
  },
  "language_info": {
   "codemirror_mode": {
    "name": "ipython",
    "version": 3
   },
   "file_extension": ".py",
   "mimetype": "text/x-python",
   "name": "python",
   "nbconvert_exporter": "python",
   "pygments_lexer": "ipython3",
   "version": "3.13.9"
  }
 },
 "nbformat": 4,
 "nbformat_minor": 4
}
