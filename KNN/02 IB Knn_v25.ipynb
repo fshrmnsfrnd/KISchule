{
 "cells": [
  {
   "cell_type": "markdown",
   "metadata": {},
   "source": [
    "### Installation notwendiger Module"
   ]
  },
  {
   "cell_type": "code",
   "execution_count": null,
   "metadata": {},
   "outputs": [],
   "source": [
    "%%capture\n",
    "!\"C:\\Program Files\\Python310\\python.exe\" -m pip install matplotlib numpy scikit-learn"
   ]
  },
  {
   "cell_type": "code",
   "execution_count": 2,
   "metadata": {
    "vscode": {
     "languageId": "bat"
    }
   },
   "outputs": [
    {
     "name": "stdout",
     "output_type": "stream",
     "text": [
      "^C\n",
      "Note: you may need to restart the kernel to use updated packages.\n"
     ]
    }
   ],
   "source": [
    "pip install matplotlib numpy scikit-learn"
   ]
  },
  {
   "attachments": {
    "image.png": {
     "image/png": "[encoded data removed]"
    }
   },
   "cell_type": "markdown",
   "metadata": {},
   "source": [
    "### K-Nearest Neighbor Algorithmus:\n",
    "Kurzerklärung: Bestimmung der Abstände zu den k-nächsten Nachbarn. K ist eine Anzahl, also wie viele Nachbarn sollen betrachtet werden. Man sucht nun aus den k-nächsten Nachbarn heraus, zu welcher Klasse diese gehören. Zur Klasse, die am häufigsten vertreten ist, gehört dann vermutlich auch der neue Datenpunkt. \n",
    "\n",
    "#### Parameter: \n",
    "Für die Anwendung des Algorithmus benötigen wir ein Dataset, bestehend aus Featuren(x) und den enstprechenden Klassen(y). Features sind hierbei als Mehrdimensional anzusehen.\n",
    "\n",
    "dataset = (x, y)  \n",
    "mit x := Features  \n",
    "und y := Classes  \n",
    "\n",
    "![image.png](attachment:image.png)\n",
    "\n",
    "\n",
    "Weiter benötigt man einen Hyperparamter K. Man könnte dies auch als Parameter des Algorithmus sehen.\n",
    "\n",
    "K := Hyperparameter für die nächsten k Nachbarn (Wie viele Nachbarn sollen betrachtet werden?)\n",
    "\n",
    "sample := Neuer Datenpunkt zum Klassifizieren \n",
    "\n"
   ]
  },
  {
   "cell_type": "code",
   "execution_count": 1,
   "metadata": {},
   "outputs": [],
   "source": [
    "import numpy as np\n",
    "np.random.seed(42)          \n",
    "#initialize the random number generator. The random number generator needs a number to start with."
   ]
  },
  {
   "cell_type": "markdown",
   "metadata": {},
   "source": [
    "## Erstellen eines Übungsdataset\n",
    "Wir laden im nächsten Schritt einige Zufallszahlen um den Algorithmus auszuprobieren. In der Praxis ist dies keine sinnvolle Variante. Da die selbst generierten Zufallszahlen nie eine Wirklichkeit abbilden können. Deswegen ist das Datensammeln gerade für die Großkonzerne so wichtig. (Stichwort: BigData)"
   ]
  },
  {
   "cell_type": "markdown",
   "metadata": {},
   "source": [
    "Laden des Datensatzes (x enthält die Features und y die zugehörigen Klassen.)"
   ]
  },
  {
   "cell_type": "code",
   "execution_count": 2,
   "metadata": {},
   "outputs": [],
   "source": [
    "x=np.loadtxt('x_Dataset.csv',dtype=float,delimiter=',')\n",
    "y=np.loadtxt('y_Dataset.csv').astype(np.int64)"
   ]
  },
  {
   "cell_type": "code",
   "execution_count": 12,
   "metadata": {
    "scrolled": true
   },
   "outputs": [
    {
     "name": "stdout",
     "output_type": "stream",
     "text": [
      "x shape: (59, 2)\n",
      "y shape: (59,)\n",
      "x:\n",
      "[[ 1.04518895 -1.09637441]\n",
      " [ 1.27861585  0.14005792]\n",
      " [ 0.44226476  0.29700947]]\n",
      "y:\n",
      "[0 0 0]\n"
     ]
    }
   ],
   "source": [
    "print(f\"x shape: {x.shape}\")\n",
    "print(f\"y shape: {y.shape}\")\n",
    "\n",
    "print(f\"x:\\n{x[:3]}\")\n",
    "print(f\"y:\\n{y[:3]}\")"
   ]
  },
  {
   "cell_type": "code",
   "execution_count": 4,
   "metadata": {},
   "outputs": [],
   "source": [
    "import matplotlib.pyplot as plt\n",
    "def plot_dataset(x, y):\n",
    "    colors = [\"red\", \"blue\", \"green\"]\n",
    "    for index, point in enumerate(x):                               #enumerate liefert die Anzahl der aktuellen Iterationen(index)\n",
    "        plt.scatter(point[0], point[1], color=colors[y[index]])     #sowie den Wert des Elements bei der aktuellen Iteration(point)\n",
    "    plt.show()"
   ]
  },
  {
   "cell_type": "code",
   "execution_count": 5,
   "metadata": {
    "scrolled": true
   },
   "outputs": [
    {
     "data": {
      "image/png": "[encoded data removed]",
      "text/plain": [
       "<Figure size 640x480 with 1 Axes>"
      ]
     },
     "metadata": {},
     "output_type": "display_data"
    }
   ],
   "source": [
    "plot_dataset(x, y)"
   ]
  },
  {
   "cell_type": "markdown",
   "metadata": {},
   "source": [
    "## KNN Implementierung\n",
    "Für **fit()** und **predict()** werden ein Trainingsdatenset und ein Testdataset benötigt. Das bedeutet man teilt z.B. seinen Datensatz in zwei getrennte Datensätze um damit seinen Algorithmus zu trainieren und anschließend zu testen. In dieser Einführung erstellen wir einfach zwei neue Testdaten, mit der wir unser Ergebnis überprüfen.\n",
    "\n",
    "Mit der Methode **score** können wir bewerten, wie oft unser Algorithmus bei diesem Datensatz richtig lag.\n",
    "\n",
    "Die Methode **predict** dient zur Vorhersage eines unbekannten Punktes."
   ]
  },
  {
   "cell_type": "code",
   "execution_count": 6,
   "metadata": {},
   "outputs": [
    {
     "name": "stdout",
     "output_type": "stream",
     "text": [
      "x_test:\n",
      " [[  1.04518895  -1.09637441]\n",
      " [ -0.45362407   1.14187173]\n",
      " [ -9.76275777   3.89509289]\n",
      " [ -0.91014679  -0.89136955]\n",
      " [ 10.87767708   9.83337286]\n",
      " [ 10.29099697  11.85963355]\n",
      " [  9.34539071   9.47067885]\n",
      " [-11.61849214   3.3862383 ]\n",
      " [  9.96461243  10.46195216]\n",
      " [  0.67043004   0.55308042]\n",
      " [ 10.56491524   9.53240717]\n",
      " [ -0.22107376   0.76063677]\n",
      " [ 11.67941788   9.17935754]\n",
      " [-10.00988548   5.26193266]\n",
      " [  0.28796105  -0.70862647]\n",
      " [ -1.30504976  -0.52392768]\n",
      " [ -1.10179635  -0.95588276]\n",
      " [ -1.3070375   -0.35121289]]\n",
      "y_test:\n",
      " [0 0 1 0 2 2 2 1 2 0 2 0 2 1 0 0 0 0]\n",
      "score: 1.0\n"
     ]
    }
   ],
   "source": [
    "from sklearn.neighbors import KNeighborsClassifier\n",
    "from sklearn.model_selection import train_test_split\n",
    "x_train, x_test, y_train, y_test = train_test_split(x, y, test_size=0.3)\n",
    "\n",
    "clf=KNeighborsClassifier(n_neighbors=3)\n",
    "clf.fit(x_train,y_train)\n",
    "accuracy=clf.score(x_test, y_test)\n",
    "\n",
    "print(f\"x_test:\\n {x_test}\")\n",
    "print(f\"y_test:\\n {y_test}\")\n",
    "print(f\"score: {accuracy}\")"
   ]
  },
  {
   "cell_type": "markdown",
   "metadata": {},
   "source": [
    "## Einen neuen unbekannten Datenpunkt klassifizieren"
   ]
  },
  {
   "cell_type": "code",
   "execution_count": 16,
   "metadata": {},
   "outputs": [
    {
     "name": "stdout",
     "output_type": "stream",
     "text": [
      "x_test:\n",
      " [[ 0.  4.]\n",
      " [-5.  4.]]\n",
      "y_test:\n",
      " [0 1]\n",
      "y_pred:\n",
      " [0 1]\n"
     ]
    }
   ],
   "source": [
    "\n",
    "x_test_neuer_Punkt = np.array([[0.0, 4.0], [-5.0, 4.0]])\n",
    "y_test_neuer_Punkt = np.array([0, 1])\n",
    "print(f\"x_test:\\n {x_test_neuer_Punkt}\")\n",
    "print(f\"y_test:\\n {y_test_neuer_Punkt}\")\n",
    "y_pred=clf.predict(x_test_neuer_Punkt)\n",
    "print(f\"y_pred:\\n {y_pred}\")"
   ]
  },
  {
   "cell_type": "code",
   "execution_count": 17,
   "metadata": {},
   "outputs": [],
   "source": [
    "\n",
    "def plot_dataset(x, y,x_test,y_test):\n",
    "    colors = [\"red\", \"blue\", \"green\"]\n",
    "    for index, point in enumerate(x):                               #enumerate liefert die Anzahl der aktuellen Iterationen(index)\n",
    "        plt.scatter(point[0], point[1], color=colors[y[index]]) \n",
    "    for index, point in enumerate(x_test_neuer_Punkt):\n",
    "        plt.scatter(point[0], point[1], color='black')    #sowie den Wert des Elements bei der aktuellen Iteration(point)\n",
    "    plt.show()"
   ]
  },
  {
   "cell_type": "code",
   "execution_count": 18,
   "metadata": {},
   "outputs": [
    {
     "data": {
      "image/png": "[encoded data removed]",
      "text/plain": [
       "<Figure size 640x480 with 1 Axes>"
      ]
     },
     "metadata": {},
     "output_type": "display_data"
    }
   ],
   "source": [
    "plot_dataset(x,y,x_test,y_test)"
   ]
  }
 ],
 "metadata": {
  "kernelspec": {
   "display_name": "Python 3",
   "language": "python",
   "name": "python3"
  },
  "language_info": {
   "codemirror_mode": {
    "name": "ipython",
    "version": 3
   },
   "file_extension": ".py",
   "mimetype": "text/x-python",
   "name": "python",
   "nbconvert_exporter": "python",
   "pygments_lexer": "ipython3",
   "version": "3.13.9"
  }
 },
 "nbformat": 4,
 "nbformat_minor": 2
}
